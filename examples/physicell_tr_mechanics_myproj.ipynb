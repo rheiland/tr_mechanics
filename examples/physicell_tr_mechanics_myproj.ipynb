{
  "cells": [
    {
      "cell_type": "code",
      "execution_count": null,
      "metadata": {
        "id": "qFHYfQ96W0-Z",
        "collapsed": true
      },
      "outputs": [],
      "source": [
        "!git clone https://github.com/rheiland/tr_mechanics.git"
      ]
    },
    {
      "cell_type": "code",
      "execution_count": null,
      "metadata": {
        "id": "o9yARgrDX8Hx"
      },
      "outputs": [],
      "source": [
        "cd tr_mechanics"
      ]
    },
    {
      "cell_type": "code",
      "execution_count": null,
      "metadata": {
        "id": "W9AIiM01X_Ei"
      },
      "outputs": [],
      "source": [
        "# cd src"
      ]
    },
    {
      "cell_type": "code",
      "execution_count": null,
      "metadata": {
        "id": "p935LemvYcLO"
      },
      "outputs": [],
      "source": [
        "# !make"
      ]
    },
    {
      "cell_type": "code",
      "execution_count": null,
      "metadata": {
        "id": "1wM2ty_IYsuR"
      },
      "outputs": [],
      "source": [
        "# cp myproj ../bin/"
      ]
    },
    {
      "cell_type": "code",
      "execution_count": null,
      "metadata": {
        "id": "SNsSGKP9Y9-k"
      },
      "outputs": [],
      "source": [
        "# cd .."
      ]
    },
    {
      "cell_type": "code",
      "execution_count": null,
      "metadata": {
        "id": "Qa0qoTmvZCxb"
      },
      "outputs": [],
      "source": [
        "%matplotlib inline"
      ]
    },
    {
      "cell_type": "code",
      "execution_count": null,
      "metadata": {
        "id": "OJqeiNVCZHAj"
      },
      "outputs": [],
      "source": [
        "import sys, os"
      ]
    },
    {
      "cell_type": "code",
      "execution_count": null,
      "metadata": {
        "id": "eNoIqKwuWxLG"
      },
      "outputs": [],
      "source": [
        "sys.path.insert(0, os.path.abspath('bin'))"
      ]
    },
    {
      "cell_type": "code",
      "execution_count": null,
      "metadata": {
        "id": "ps5CTWkjVAxs"
      },
      "outputs": [],
      "source": [
        "# pip install -U --upgrade-strategy only-if-needed hublib"
      ]
    },
    {
      "cell_type": "code",
      "execution_count": null,
      "metadata": {
        "id": "EDQarANEZKuQ"
      },
      "outputs": [],
      "source": [
        "import tr_mechanics"
      ]
    },
    {
      "cell_type": "code",
      "execution_count": null,
      "metadata": {
        "id": "wCDrGRZcZndv"
      },
      "outputs": [],
      "source": [
        "tr_mechanics.gui"
      ]
    },
    {
      "cell_type": "code",
      "execution_count": null,
      "metadata": {
        "id": "1Bc5q3mlnLbv"
      },
      "outputs": [],
      "source": []
    }
  ],
  "metadata": {
    "colab": {
      "provenance": []
    },
    "kernelspec": {
      "display_name": "Python 3 (ipykernel)",
      "language": "python",
      "name": "python3"
    },
    "language_info": {
      "codemirror_mode": {
        "name": "ipython",
        "version": 3
      },
      "file_extension": ".py",
      "mimetype": "text/x-python",
      "name": "python",
      "nbconvert_exporter": "python",
      "pygments_lexer": "ipython3",
      "version": "3.9.6"
    }
  },
  "nbformat": 4,
  "nbformat_minor": 0
}